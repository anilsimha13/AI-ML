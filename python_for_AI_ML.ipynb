{
  "nbformat": 4,
  "nbformat_minor": 0,
  "metadata": {
    "colab": {
      "provenance": [],
      "authorship_tag": "ABX9TyNdT5n2wgfhqAxhZG36o37W",
      "include_colab_link": true
    },
    "kernelspec": {
      "name": "python3",
      "display_name": "Python 3"
    },
    "language_info": {
      "name": "python"
    }
  },
  "cells": [
    {
      "cell_type": "markdown",
      "metadata": {
        "id": "view-in-github",
        "colab_type": "text"
      },
      "source": [
        "<a href=\"https://colab.research.google.com/github/anilsimha13/AI-ML/blob/main/python_for_AI_ML.ipynb\" target=\"_parent\"><img src=\"https://colab.research.google.com/assets/colab-badge.svg\" alt=\"Open In Colab\"/></a>"
      ]
    },
    {
      "cell_type": "markdown",
      "source": [],
      "metadata": {
        "id": "lhZPLRsxQjoj"
      }
    },
    {
      "cell_type": "markdown",
      "source": [
        "# **Class 3**"
      ],
      "metadata": {
        "id": "6bbn1JylSpJ4"
      }
    },
    {
      "cell_type": "markdown",
      "source": [
        "### **Loops**\n",
        "- for"
      ],
      "metadata": {
        "id": "8f-bgLo3grHZ"
      }
    },
    {
      "cell_type": "code",
      "source": [
        "check_for_loop2 = [2,2,2,2,2]\n",
        "empty_list = []\n",
        "for i in check_for_loop2:\n",
        "  empty_list.append(i * i)\n",
        "print(empty_list)"
      ],
      "metadata": {
        "colab": {
          "base_uri": "https://localhost:8080/"
        },
        "id": "WyyWdox_jnuX",
        "outputId": "faa944b9-7d5e-4783-e78a-737063702c7c"
      },
      "execution_count": 23,
      "outputs": [
        {
          "output_type": "stream",
          "name": "stdout",
          "text": [
            "[4, 4, 4, 4, 4]\n"
          ]
        }
      ]
    },
    {
      "cell_type": "code",
      "source": [
        "check_for_loop = [1,2,3,4,5,6]\n",
        "for i in range(len(check_for_loop)):\n",
        "  check_for_loop[i] *= check_for_loop[i]\n",
        "print(check_for_loop)"
      ],
      "metadata": {
        "colab": {
          "base_uri": "https://localhost:8080/"
        },
        "id": "zdDvigxQgzuo",
        "outputId": "3d3463e8-d407-4735-c11f-e01554cfc1ae"
      },
      "execution_count": 19,
      "outputs": [
        {
          "output_type": "stream",
          "name": "stdout",
          "text": [
            "[1, 4, 9, 16, 25, 36]\n"
          ]
        }
      ]
    },
    {
      "cell_type": "markdown",
      "source": [
        "### **Control Statements**\n",
        "- if\n",
        "- if else\n",
        "- elif"
      ],
      "metadata": {
        "id": "eyyxXUgkcvc7"
      }
    },
    {
      "cell_type": "code",
      "source": [
        "lists = [1,2,3,4,5,6,7,8,9,10]\n",
        "\n",
        "if 11 in lists:\n",
        "  print('11 is in the list')\n",
        "else:\n",
        "  print('11 is not in the list')\n",
        "\n",
        "if 12 not in lists:\n",
        "  print('10 is in the list')\n",
        "else:\n",
        "  print('10 is not in the list')\n",
        "\n",
        "for i in lists:\n",
        "  print(i)"
      ],
      "metadata": {
        "id": "lYeLGQJPgorl"
      },
      "execution_count": null,
      "outputs": []
    },
    {
      "cell_type": "code",
      "source": [
        "math_score = 100\n",
        "if math_score > 50 and math_score <= 100:\n",
        "  print('A')\n",
        "elif math_score > 40 and math_score <= 50:\n",
        "  print('B')\n",
        "elif math_score > 30 and math_score <= 40:\n",
        "  print('C')\n",
        "else:\n",
        "  print('Fail')"
      ],
      "metadata": {
        "colab": {
          "base_uri": "https://localhost:8080/"
        },
        "id": "2788aNqjfH8Y",
        "outputId": "c15045b8-d15f-4936-9024-9ae17c5b20aa"
      },
      "execution_count": 5,
      "outputs": [
        {
          "output_type": "stream",
          "name": "stdout",
          "text": [
            "A\n"
          ]
        }
      ]
    },
    {
      "cell_type": "code",
      "source": [
        "marks_scored = 80\n",
        "\n",
        "if marks_scored > 50:\n",
        "  print('Pass')\n",
        "else:\n",
        "  print('Fail')"
      ],
      "metadata": {
        "colab": {
          "base_uri": "https://localhost:8080/"
        },
        "id": "zpVNCrppc7Te",
        "outputId": "cabda8d2-b6c8-4ab8-df9c-5ebb424b7a01"
      },
      "execution_count": 1,
      "outputs": [
        {
          "output_type": "stream",
          "name": "stdout",
          "text": [
            "Pass\n"
          ]
        }
      ]
    },
    {
      "cell_type": "markdown",
      "source": [
        "### **Sets**\n",
        "- Sets are collection of unique elements\n",
        "- Sets are unordered collection of elements\n",
        "- Declared by using { }\n",
        "- Union |\n",
        "- Intersection &"
      ],
      "metadata": {
        "id": "y9Jamy_N2dZj"
      }
    },
    {
      "cell_type": "code",
      "source": [
        "# remove the duplicates\n",
        "\n",
        "num_list = [10,12,14,14,15,15,13,15,13,12,11,15,16,16,17,17,18,18,181,19,19,29,20,20]\n",
        "print(num_list)\n",
        "print(set(num_list))\n",
        "print(list(set(num_list)))"
      ],
      "metadata": {
        "colab": {
          "base_uri": "https://localhost:8080/"
        },
        "id": "GxKTrjtY6GGP",
        "outputId": "d3f0437f-47bc-4c16-832c-8e54f2719e5a"
      },
      "execution_count": 14,
      "outputs": [
        {
          "output_type": "stream",
          "name": "stdout",
          "text": [
            "[10, 12, 14, 14, 15, 15, 13, 15, 13, 12, 11, 15, 16, 16, 17, 17, 18, 18, 181, 19, 19, 29, 20, 20]\n",
            "{10, 11, 12, 13, 14, 15, 16, 17, 18, 19, 20, 181, 29}\n",
            "[10, 11, 12, 13, 14, 15, 16, 17, 18, 19, 20, 181, 29]\n"
          ]
        }
      ]
    },
    {
      "cell_type": "code",
      "source": [
        "city_name = {'Delhi', 'Hyderabad','Chennai', 'Bangalore', 'Delhi'}\n",
        "print(city_name)\n",
        "city_population = {10000, 20000, 30000, 40000, 50000}\n",
        "print(city_population | city_name)\n",
        "few_city_names = {'Delhi','Hyderabad', 'Kolkata', 'Ahmedabad'}\n",
        "print(city_name & few_city_names)"
      ],
      "metadata": {
        "colab": {
          "base_uri": "https://localhost:8080/"
        },
        "id": "OQxTrzWL26cu",
        "outputId": "57d1a21b-2298-46b2-a7b9-3e28d2786f6b"
      },
      "execution_count": 12,
      "outputs": [
        {
          "output_type": "stream",
          "name": "stdout",
          "text": [
            "{'Delhi', 'Chennai', 'Bangalore', 'Hyderabad'}\n",
            "{20000, 40000, 'Delhi', 'Hyderabad', 10000, 30000, 50000, 'Chennai', 'Bangalore'}\n",
            "{'Delhi', 'Hyderabad'}\n"
          ]
        }
      ]
    },
    {
      "cell_type": "markdown",
      "source": [
        "### **Dictionaries**\n",
        "  - Stored as Key-Value pair\n",
        "  - These are mutable\n",
        "  - Declared with curly braces { }\n",
        "  - Delete data in Dictionary - del\n",
        "  - Update data in Dictionary - update\n",
        "  - Key should be unique"
      ],
      "metadata": {
        "id": "ibEBAMqXhWub"
      }
    },
    {
      "cell_type": "code",
      "source": [
        "student_data_1 = {1:['Mark', 99], 2:['Alica', 100], 3:['James', 98]}\n",
        "del student_data_1[3]\n",
        "print(student_data_1)\n",
        "student_data_1.update({3:['James', 98]})\n",
        "print(student_data_1)"
      ],
      "metadata": {
        "colab": {
          "base_uri": "https://localhost:8080/"
        },
        "id": "cZ_EP0VA0fOk",
        "outputId": "e3716ce6-3a83-4dae-88ed-7d3cb7aced63"
      },
      "execution_count": 9,
      "outputs": [
        {
          "output_type": "stream",
          "name": "stdout",
          "text": [
            "{1: ['Mark', 99], 2: ['Alica', 100]}\n",
            "{1: ['Mark', 99], 2: ['Alica', 100], 3: ['James', 98]}\n"
          ]
        }
      ]
    },
    {
      "cell_type": "code",
      "source": [
        "student_data = {1:['Mark', 99], 2:['Alica', 100]}\n",
        "print(student_data)\n",
        "print(student_data.keys())\n",
        "print(student_data.values())\n",
        "print(student_data[1])\n",
        "print(student_data[1][1])\n",
        "print(student_data[2][0])"
      ],
      "metadata": {
        "colab": {
          "base_uri": "https://localhost:8080/"
        },
        "id": "0WNHoHuehO6m",
        "outputId": "917ccd26-cc5d-4899-f41c-9fac6b450160"
      },
      "execution_count": 7,
      "outputs": [
        {
          "output_type": "stream",
          "name": "stdout",
          "text": [
            "{1: ['Mark', 99], 2: ['Alica', 100]}\n",
            "dict_keys([1, 2])\n",
            "dict_values([['Mark', 99], ['Alica', 100]])\n",
            "['Mark', 99]\n",
            "99\n",
            "Alica\n"
          ]
        }
      ]
    },
    {
      "cell_type": "markdown",
      "source": [
        "# **Class 2**\n",
        "- Tuples\n",
        "  - Its a one dimensional , immutable , ordered collection of different data types\n",
        "  - Declared on round braces ( )\n",
        "- List\n",
        "  - Its a one dimensional , mutable , ordered collection of different data types\n",
        "  - Declared on round braces [ ]\n",
        "  - append # Appends at the end of the list\n",
        "  - pop # Removes the value by index\n",
        "  - insert # Want to insert into the specified index\n",
        "  - remove # Removes the first occurance by value\n",
        "  - extend\n",
        "- Dictionaries\n",
        "- Sets"
      ],
      "metadata": {
        "id": "WvSMl3CvUDLh"
      }
    },
    {
      "cell_type": "markdown",
      "source": [
        "### List"
      ],
      "metadata": {
        "id": "wHHK41Zhrnr2"
      }
    },
    {
      "cell_type": "code",
      "source": [
        "# List Methods\n",
        "list_methods = ['list1', 'list2',  'list3', 'list4']\n",
        "list_methods.append('list5')\n",
        "print('append', list_methods)\n",
        "list_methods.pop(2)\n",
        "print('pop',list_methods)\n",
        "list_methods.insert(2, 'list6')\n",
        "print('insert',list_methods)\n",
        "list_methods.remove('list1')\n",
        "print('remove',list_methods)\n",
        "second_list = ['list7', 'list8']\n",
        "list_methods.extend(second_list)\n",
        "print('extend',list_methods)"
      ],
      "metadata": {
        "colab": {
          "base_uri": "https://localhost:8080/"
        },
        "id": "iEdRd68CvlVr",
        "outputId": "f3505289-1b75-4b2d-bda4-204c237504e2"
      },
      "execution_count": null,
      "outputs": [
        {
          "output_type": "stream",
          "name": "stdout",
          "text": [
            "append ['list1', 'list2', 'list3', 'list4', 'list5']\n",
            "pop ['list1', 'list2', 'list4', 'list5']\n",
            "insert ['list1', 'list2', 'list6', 'list4', 'list5']\n",
            "remove ['list2', 'list6', 'list4', 'list5']\n",
            "extend ['list2', 'list6', 'list4', 'list5', 'list7', 'list8']\n"
          ]
        }
      ]
    },
    {
      "cell_type": "code",
      "source": [
        "first_list = [1, 222, 222.222, 'Mark', True, 'Awesome', 'No Worries']\n",
        "print(first_list[4])\n",
        "first_list[2] = 2.222\n",
        "print(first_list)\n",
        "print(first_list[1:3:2])\n",
        "print(len(first_list))\n",
        "first_list.append('Zuke')\n",
        "print(first_list)\n",
        "first_list.insert(2,0.00)\n",
        "print(first_list)\n",
        "first_list.remove('Mark')\n",
        "print(first_list)"
      ],
      "metadata": {
        "colab": {
          "base_uri": "https://localhost:8080/"
        },
        "id": "zGB97b0drtNm",
        "outputId": "0d5459ce-476e-4f3c-c70f-f50eda8be709"
      },
      "execution_count": null,
      "outputs": [
        {
          "output_type": "stream",
          "name": "stdout",
          "text": [
            "True\n",
            "[1, 222, 2.222, 'Mark', True, 'Awesome', 'No Worries']\n",
            "[222]\n",
            "7\n",
            "[1, 222, 2.222, 'Mark', True, 'Awesome', 'No Worries', 'Zuke']\n",
            "[1, 222, 0.0, 2.222, 'Mark', True, 'Awesome', 'No Worries', 'Zuke']\n",
            "[1, 222, 0.0, 2.222, True, 'Awesome', 'No Worries', 'Zuke']\n"
          ]
        }
      ]
    },
    {
      "cell_type": "markdown",
      "source": [
        "### Tuples"
      ],
      "metadata": {
        "id": "cy1Cuh91rhNY"
      }
    },
    {
      "cell_type": "code",
      "source": [
        "first_tuples = (1, 2.0, True, 'Tuples')\n",
        "print(first_tuples)\n",
        "print(first_tuples[1])\n",
        "print(first_tuples[3])"
      ],
      "metadata": {
        "colab": {
          "base_uri": "https://localhost:8080/"
        },
        "id": "m3L1F4fVYUmH",
        "outputId": "d0722af8-c02f-4666-df27-6d04e52e7d54"
      },
      "execution_count": null,
      "outputs": [
        {
          "output_type": "stream",
          "name": "stdout",
          "text": [
            "(1, 2.0, True, 'Tuples')\n",
            "2.0\n",
            "Tuples\n"
          ]
        }
      ]
    },
    {
      "cell_type": "code",
      "source": [
        "print(first_tuples)\n",
        "second_tuples = ('Sets', 'React', False, 111, 111.1)\n",
        "third_tuple = first_tuples + second_tuples\n",
        "print(third_tuple)"
      ],
      "metadata": {
        "colab": {
          "base_uri": "https://localhost:8080/"
        },
        "id": "0Urm2Xhqq7Mn",
        "outputId": "de148b15-49e5-43b0-e004-61904198132e"
      },
      "execution_count": null,
      "outputs": [
        {
          "output_type": "stream",
          "name": "stdout",
          "text": [
            "(1, 2.0, True, 'Tuples')\n",
            "(1, 2.0, True, 'Tuples', 'Sets', 'React', False, 111, 111.1)\n"
          ]
        }
      ]
    },
    {
      "cell_type": "code",
      "source": [
        "first_tuples[0:3:2]\n",
        "first_tuples[1:5:2]\n",
        "first_tuples[-1]"
      ],
      "metadata": {
        "colab": {
          "base_uri": "https://localhost:8080/",
          "height": 35
        },
        "id": "jOtd-3NPqLQd",
        "outputId": "a0b15a6b-4aee-4fb9-d4e3-cb423fbd5cae"
      },
      "execution_count": null,
      "outputs": [
        {
          "output_type": "execute_result",
          "data": {
            "text/plain": [
              "'Tuples'"
            ],
            "application/vnd.google.colaboratory.intrinsic+json": {
              "type": "string"
            }
          },
          "metadata": {},
          "execution_count": 27
        }
      ]
    },
    {
      "cell_type": "code",
      "source": [
        "print(first_tuples.index('Tuples'))"
      ],
      "metadata": {
        "colab": {
          "base_uri": "https://localhost:8080/"
        },
        "id": "7jaHNYeXppeX",
        "outputId": "b1560582-3b8b-4b99-a891-0bb01f83f0da"
      },
      "execution_count": null,
      "outputs": [
        {
          "output_type": "stream",
          "name": "stdout",
          "text": [
            "3\n"
          ]
        }
      ]
    },
    {
      "cell_type": "code",
      "source": [
        "print(first_tuples[0:3])"
      ],
      "metadata": {
        "colab": {
          "base_uri": "https://localhost:8080/"
        },
        "id": "6Hp9DbjDk98C",
        "outputId": "eb01820d-1bec-43a9-a10d-69f049df0c7b"
      },
      "execution_count": null,
      "outputs": [
        {
          "output_type": "stream",
          "name": "stdout",
          "text": [
            "(1, 2.0, True)\n"
          ]
        }
      ]
    },
    {
      "cell_type": "code",
      "source": [
        "first_tuples[1] = 2.1"
      ],
      "metadata": {
        "colab": {
          "base_uri": "https://localhost:8080/",
          "height": 141
        },
        "id": "diT55uogjo_V",
        "outputId": "3f90dca5-2c00-4c16-ebfe-4e5dc8cfde33"
      },
      "execution_count": null,
      "outputs": [
        {
          "output_type": "error",
          "ename": "TypeError",
          "evalue": "'tuple' object does not support item assignment",
          "traceback": [
            "\u001b[0;31m---------------------------------------------------------------------------\u001b[0m",
            "\u001b[0;31mTypeError\u001b[0m                                 Traceback (most recent call last)",
            "\u001b[0;32m/tmp/ipython-input-3-4144936469.py\u001b[0m in \u001b[0;36m<cell line: 0>\u001b[0;34m()\u001b[0m\n\u001b[0;32m----> 1\u001b[0;31m \u001b[0mfirst_tuples\u001b[0m\u001b[0;34m[\u001b[0m\u001b[0;36m1\u001b[0m\u001b[0;34m]\u001b[0m \u001b[0;34m=\u001b[0m \u001b[0;36m2.1\u001b[0m\u001b[0;34m\u001b[0m\u001b[0;34m\u001b[0m\u001b[0m\n\u001b[0m",
            "\u001b[0;31mTypeError\u001b[0m: 'tuple' object does not support item assignment"
          ]
        }
      ]
    },
    {
      "cell_type": "code",
      "source": [
        "#swapping of two variables without creating third variable\n",
        "\n",
        "x = 10\n",
        "y = 20\n",
        "\n",
        "x,y = y,x\n",
        "print(x , y)"
      ],
      "metadata": {
        "colab": {
          "base_uri": "https://localhost:8080/"
        },
        "id": "Q9kQSGk3Tm3I",
        "outputId": "3bb66617-76e6-4425-8d06-3359e57f5dd9"
      },
      "execution_count": null,
      "outputs": [
        {
          "output_type": "stream",
          "name": "stdout",
          "text": [
            "20 10\n"
          ]
        }
      ]
    },
    {
      "cell_type": "markdown",
      "source": [
        "# **Class1**"
      ],
      "metadata": {
        "id": "art_DvA8rEmz"
      }
    },
    {
      "cell_type": "code",
      "source": [
        "first_student_name = 'Mark'\n",
        "second_student_name = 'Alica'"
      ],
      "metadata": {
        "id": "ga5ya3smoU3r"
      },
      "execution_count": null,
      "outputs": []
    },
    {
      "cell_type": "code",
      "source": [
        "print(first_student_name)\n",
        "print(second_student_name)\n",
        "print(type(first_student_name))\n",
        "print(type(second_student_name))"
      ],
      "metadata": {
        "colab": {
          "base_uri": "https://localhost:8080/"
        },
        "id": "8c0-gkSlofgZ",
        "outputId": "860f41cf-b62e-4e6b-8378-7ac519b75aa0"
      },
      "execution_count": null,
      "outputs": [
        {
          "output_type": "stream",
          "name": "stdout",
          "text": [
            "Mark\n",
            "Alica\n",
            "<class 'str'>\n",
            "<class 'str'>\n"
          ]
        }
      ]
    },
    {
      "cell_type": "code",
      "source": [
        "first_student_marks = 99\n",
        "second_student_marks = 100.0\n",
        "student_pass = True\n",
        "print(type(second_student_marks))\n",
        "print(type(first_student_marks))\n",
        "print(type(student_pass))"
      ],
      "metadata": {
        "colab": {
          "base_uri": "https://localhost:8080/"
        },
        "id": "cCqTWNSKorJp",
        "outputId": "474672f0-f90c-481e-9737-78541bf8ae49"
      },
      "execution_count": null,
      "outputs": [
        {
          "output_type": "stream",
          "name": "stdout",
          "text": [
            "<class 'float'>\n",
            "<class 'int'>\n",
            "<class 'bool'>\n"
          ]
        }
      ]
    },
    {
      "cell_type": "code",
      "source": [
        "noneType = None\n",
        "print(type(noneType))"
      ],
      "metadata": {
        "colab": {
          "base_uri": "https://localhost:8080/"
        },
        "id": "XaHuqupxq64T",
        "outputId": "65677771-bc7d-4ad3-b7d6-c34489ea552b"
      },
      "execution_count": null,
      "outputs": [
        {
          "output_type": "stream",
          "name": "stdout",
          "text": [
            "<class 'NoneType'>\n"
          ]
        }
      ]
    }
  ]
}