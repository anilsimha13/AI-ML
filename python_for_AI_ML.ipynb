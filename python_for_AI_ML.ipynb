{
  "nbformat": 4,
  "nbformat_minor": 0,
  "metadata": {
    "colab": {
      "provenance": [],
      "toc_visible": true,
      "authorship_tag": "ABX9TyPKacdlmVOwJsubLcfixCT+",
      "include_colab_link": true
    },
    "kernelspec": {
      "name": "python3",
      "display_name": "Python 3"
    },
    "language_info": {
      "name": "python"
    }
  },
  "cells": [
    {
      "cell_type": "markdown",
      "metadata": {
        "id": "view-in-github",
        "colab_type": "text"
      },
      "source": [
        "<a href=\"https://colab.research.google.com/github/anilsimha13/AI-ML/blob/main/python_for_AI_ML.ipynb\" target=\"_parent\"><img src=\"https://colab.research.google.com/assets/colab-badge.svg\" alt=\"Open In Colab\"/></a>"
      ]
    },
    {
      "cell_type": "markdown",
      "source": [
        "# **Class1**"
      ],
      "metadata": {
        "id": "art_DvA8rEmz"
      }
    },
    {
      "cell_type": "code",
      "source": [
        "first_student_name = 'Mark'\n",
        "second_student_name = 'Alica'"
      ],
      "metadata": {
        "id": "ga5ya3smoU3r"
      },
      "execution_count": 1,
      "outputs": []
    },
    {
      "cell_type": "code",
      "source": [
        "print(first_student_name)\n",
        "print(second_student_name)\n",
        "print(type(first_student_name))\n",
        "print(type(second_student_name))"
      ],
      "metadata": {
        "colab": {
          "base_uri": "https://localhost:8080/"
        },
        "id": "8c0-gkSlofgZ",
        "outputId": "860f41cf-b62e-4e6b-8378-7ac519b75aa0"
      },
      "execution_count": 4,
      "outputs": [
        {
          "output_type": "stream",
          "name": "stdout",
          "text": [
            "Mark\n",
            "Alica\n",
            "<class 'str'>\n",
            "<class 'str'>\n"
          ]
        }
      ]
    },
    {
      "cell_type": "code",
      "source": [
        "first_student_marks = 99\n",
        "second_student_marks = 100.0\n",
        "student_pass = True\n",
        "print(type(second_student_marks))\n",
        "print(type(first_student_marks))\n",
        "print(type(student_pass))"
      ],
      "metadata": {
        "colab": {
          "base_uri": "https://localhost:8080/"
        },
        "id": "cCqTWNSKorJp",
        "outputId": "474672f0-f90c-481e-9737-78541bf8ae49"
      },
      "execution_count": 8,
      "outputs": [
        {
          "output_type": "stream",
          "name": "stdout",
          "text": [
            "<class 'float'>\n",
            "<class 'int'>\n",
            "<class 'bool'>\n"
          ]
        }
      ]
    },
    {
      "cell_type": "code",
      "source": [
        "noneType = None\n",
        "print(type(noneType))"
      ],
      "metadata": {
        "colab": {
          "base_uri": "https://localhost:8080/"
        },
        "id": "XaHuqupxq64T",
        "outputId": "65677771-bc7d-4ad3-b7d6-c34489ea552b"
      },
      "execution_count": 9,
      "outputs": [
        {
          "output_type": "stream",
          "name": "stdout",
          "text": [
            "<class 'NoneType'>\n"
          ]
        }
      ]
    }
  ]
}