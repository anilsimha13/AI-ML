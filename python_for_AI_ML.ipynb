{
  "nbformat": 4,
  "nbformat_minor": 0,
  "metadata": {
    "colab": {
      "provenance": [],
      "authorship_tag": "ABX9TyMsL4spzRfvw/nPWgWiZqvO",
      "include_colab_link": true
    },
    "kernelspec": {
      "name": "python3",
      "display_name": "Python 3"
    },
    "language_info": {
      "name": "python"
    }
  },
  "cells": [
    {
      "cell_type": "markdown",
      "metadata": {
        "id": "view-in-github",
        "colab_type": "text"
      },
      "source": [
        "<a href=\"https://colab.research.google.com/github/anilsimha13/AI-ML/blob/main/python_for_AI_ML.ipynb\" target=\"_parent\"><img src=\"https://colab.research.google.com/assets/colab-badge.svg\" alt=\"Open In Colab\"/></a>"
      ]
    },
    {
      "cell_type": "markdown",
      "source": [],
      "metadata": {
        "id": "lhZPLRsxQjoj"
      }
    },
    {
      "cell_type": "markdown",
      "source": [
        "# **Class 2**\n",
        "- Tuples\n",
        "  - Its a one dimensional , immutable , ordered collection of different data types\n",
        "  - Declared on round braces ( )\n",
        "- List\n",
        "  - Its a one dimensional , mutable , ordered collection of different data types\n",
        "  - Declared on round braces [ ]\n",
        "  - append # Appends at the end of the list\n",
        "  - pop # Removes the value by index\n",
        "  - insert # Want to insert into the specified index\n",
        "  - remove # Removes the first occurance by value\n",
        "  - extend\n",
        "- Dictionaries\n",
        "- Sets"
      ],
      "metadata": {
        "id": "WvSMl3CvUDLh"
      }
    },
    {
      "cell_type": "markdown",
      "source": [
        "### List"
      ],
      "metadata": {
        "id": "wHHK41Zhrnr2"
      }
    },
    {
      "cell_type": "code",
      "source": [
        "# List Methods\n",
        "list_methods = ['list1', 'list2',  'list3', 'list4']\n",
        "list_methods.append('list5')\n",
        "print('append', list_methods)\n",
        "list_methods.pop(2)\n",
        "print('pop',list_methods)\n",
        "list_methods.insert(2, 'list6')\n",
        "print('insert',list_methods)\n",
        "list_methods.remove('list1')\n",
        "print('remove',list_methods)\n",
        "second_list = ['list7', 'list8']\n",
        "list_methods.extend(second_list)\n",
        "print('extend',list_methods)"
      ],
      "metadata": {
        "colab": {
          "base_uri": "https://localhost:8080/"
        },
        "id": "iEdRd68CvlVr",
        "outputId": "f3505289-1b75-4b2d-bda4-204c237504e2"
      },
      "execution_count": 26,
      "outputs": [
        {
          "output_type": "stream",
          "name": "stdout",
          "text": [
            "append ['list1', 'list2', 'list3', 'list4', 'list5']\n",
            "pop ['list1', 'list2', 'list4', 'list5']\n",
            "insert ['list1', 'list2', 'list6', 'list4', 'list5']\n",
            "remove ['list2', 'list6', 'list4', 'list5']\n",
            "extend ['list2', 'list6', 'list4', 'list5', 'list7', 'list8']\n"
          ]
        }
      ]
    },
    {
      "cell_type": "code",
      "source": [
        "first_list = [1, 222, 222.222, 'Mark', True, 'Awesome', 'No Worries']\n",
        "print(first_list[4])\n",
        "first_list[2] = 2.222\n",
        "print(first_list)\n",
        "print(first_list[1:3:2])\n",
        "print(len(first_list))\n",
        "first_list.append('Zuke')\n",
        "print(first_list)\n",
        "first_list.insert(2,0.00)\n",
        "print(first_list)\n",
        "first_list.remove('Mark')\n",
        "print(first_list)"
      ],
      "metadata": {
        "colab": {
          "base_uri": "https://localhost:8080/"
        },
        "id": "zGB97b0drtNm",
        "outputId": "0d5459ce-476e-4f3c-c70f-f50eda8be709"
      },
      "execution_count": 23,
      "outputs": [
        {
          "output_type": "stream",
          "name": "stdout",
          "text": [
            "True\n",
            "[1, 222, 2.222, 'Mark', True, 'Awesome', 'No Worries']\n",
            "[222]\n",
            "7\n",
            "[1, 222, 2.222, 'Mark', True, 'Awesome', 'No Worries', 'Zuke']\n",
            "[1, 222, 0.0, 2.222, 'Mark', True, 'Awesome', 'No Worries', 'Zuke']\n",
            "[1, 222, 0.0, 2.222, True, 'Awesome', 'No Worries', 'Zuke']\n"
          ]
        }
      ]
    },
    {
      "cell_type": "markdown",
      "source": [
        "### Tuples"
      ],
      "metadata": {
        "id": "cy1Cuh91rhNY"
      }
    },
    {
      "cell_type": "code",
      "source": [
        "first_tuples = (1, 2.0, True, 'Tuples')\n",
        "print(first_tuples)\n",
        "print(first_tuples[1])\n",
        "print(first_tuples[3])"
      ],
      "metadata": {
        "colab": {
          "base_uri": "https://localhost:8080/"
        },
        "id": "m3L1F4fVYUmH",
        "outputId": "d0722af8-c02f-4666-df27-6d04e52e7d54"
      },
      "execution_count": 2,
      "outputs": [
        {
          "output_type": "stream",
          "name": "stdout",
          "text": [
            "(1, 2.0, True, 'Tuples')\n",
            "2.0\n",
            "Tuples\n"
          ]
        }
      ]
    },
    {
      "cell_type": "code",
      "source": [
        "print(first_tuples)\n",
        "second_tuples = ('Sets', 'React', False, 111, 111.1)\n",
        "third_tuple = first_tuples + second_tuples\n",
        "print(third_tuple)"
      ],
      "metadata": {
        "colab": {
          "base_uri": "https://localhost:8080/"
        },
        "id": "0Urm2Xhqq7Mn",
        "outputId": "de148b15-49e5-43b0-e004-61904198132e"
      },
      "execution_count": 14,
      "outputs": [
        {
          "output_type": "stream",
          "name": "stdout",
          "text": [
            "(1, 2.0, True, 'Tuples')\n",
            "(1, 2.0, True, 'Tuples', 'Sets', 'React', False, 111, 111.1)\n"
          ]
        }
      ]
    },
    {
      "cell_type": "code",
      "source": [
        "first_tuples[0:3:2]\n",
        "first_tuples[1:5:2]\n",
        "first_tuples[-1]"
      ],
      "metadata": {
        "colab": {
          "base_uri": "https://localhost:8080/",
          "height": 35
        },
        "id": "jOtd-3NPqLQd",
        "outputId": "a0b15a6b-4aee-4fb9-d4e3-cb423fbd5cae"
      },
      "execution_count": 27,
      "outputs": [
        {
          "output_type": "execute_result",
          "data": {
            "text/plain": [
              "'Tuples'"
            ],
            "application/vnd.google.colaboratory.intrinsic+json": {
              "type": "string"
            }
          },
          "metadata": {},
          "execution_count": 27
        }
      ]
    },
    {
      "cell_type": "code",
      "source": [
        "print(first_tuples.index('Tuples'))"
      ],
      "metadata": {
        "colab": {
          "base_uri": "https://localhost:8080/"
        },
        "id": "7jaHNYeXppeX",
        "outputId": "b1560582-3b8b-4b99-a891-0bb01f83f0da"
      },
      "execution_count": 10,
      "outputs": [
        {
          "output_type": "stream",
          "name": "stdout",
          "text": [
            "3\n"
          ]
        }
      ]
    },
    {
      "cell_type": "code",
      "source": [
        "print(first_tuples[0:3])"
      ],
      "metadata": {
        "colab": {
          "base_uri": "https://localhost:8080/"
        },
        "id": "6Hp9DbjDk98C",
        "outputId": "eb01820d-1bec-43a9-a10d-69f049df0c7b"
      },
      "execution_count": 5,
      "outputs": [
        {
          "output_type": "stream",
          "name": "stdout",
          "text": [
            "(1, 2.0, True)\n"
          ]
        }
      ]
    },
    {
      "cell_type": "code",
      "source": [
        "first_tuples[1] = 2.1"
      ],
      "metadata": {
        "colab": {
          "base_uri": "https://localhost:8080/",
          "height": 141
        },
        "id": "diT55uogjo_V",
        "outputId": "3f90dca5-2c00-4c16-ebfe-4e5dc8cfde33"
      },
      "execution_count": 3,
      "outputs": [
        {
          "output_type": "error",
          "ename": "TypeError",
          "evalue": "'tuple' object does not support item assignment",
          "traceback": [
            "\u001b[0;31m---------------------------------------------------------------------------\u001b[0m",
            "\u001b[0;31mTypeError\u001b[0m                                 Traceback (most recent call last)",
            "\u001b[0;32m/tmp/ipython-input-3-4144936469.py\u001b[0m in \u001b[0;36m<cell line: 0>\u001b[0;34m()\u001b[0m\n\u001b[0;32m----> 1\u001b[0;31m \u001b[0mfirst_tuples\u001b[0m\u001b[0;34m[\u001b[0m\u001b[0;36m1\u001b[0m\u001b[0;34m]\u001b[0m \u001b[0;34m=\u001b[0m \u001b[0;36m2.1\u001b[0m\u001b[0;34m\u001b[0m\u001b[0;34m\u001b[0m\u001b[0m\n\u001b[0m",
            "\u001b[0;31mTypeError\u001b[0m: 'tuple' object does not support item assignment"
          ]
        }
      ]
    },
    {
      "cell_type": "code",
      "source": [
        "#swapping of two variables without creating third variable\n",
        "\n",
        "x = 10\n",
        "y = 20\n",
        "\n",
        "x,y = y,x\n",
        "print(x , y)"
      ],
      "metadata": {
        "colab": {
          "base_uri": "https://localhost:8080/"
        },
        "id": "Q9kQSGk3Tm3I",
        "outputId": "3bb66617-76e6-4425-8d06-3359e57f5dd9"
      },
      "execution_count": 2,
      "outputs": [
        {
          "output_type": "stream",
          "name": "stdout",
          "text": [
            "20 10\n"
          ]
        }
      ]
    },
    {
      "cell_type": "markdown",
      "source": [
        "# **Class1**"
      ],
      "metadata": {
        "id": "art_DvA8rEmz"
      }
    },
    {
      "cell_type": "code",
      "source": [
        "first_student_name = 'Mark'\n",
        "second_student_name = 'Alica'"
      ],
      "metadata": {
        "id": "ga5ya3smoU3r"
      },
      "execution_count": null,
      "outputs": []
    },
    {
      "cell_type": "code",
      "source": [
        "print(first_student_name)\n",
        "print(second_student_name)\n",
        "print(type(first_student_name))\n",
        "print(type(second_student_name))"
      ],
      "metadata": {
        "colab": {
          "base_uri": "https://localhost:8080/"
        },
        "id": "8c0-gkSlofgZ",
        "outputId": "860f41cf-b62e-4e6b-8378-7ac519b75aa0"
      },
      "execution_count": null,
      "outputs": [
        {
          "output_type": "stream",
          "name": "stdout",
          "text": [
            "Mark\n",
            "Alica\n",
            "<class 'str'>\n",
            "<class 'str'>\n"
          ]
        }
      ]
    },
    {
      "cell_type": "code",
      "source": [
        "first_student_marks = 99\n",
        "second_student_marks = 100.0\n",
        "student_pass = True\n",
        "print(type(second_student_marks))\n",
        "print(type(first_student_marks))\n",
        "print(type(student_pass))"
      ],
      "metadata": {
        "colab": {
          "base_uri": "https://localhost:8080/"
        },
        "id": "cCqTWNSKorJp",
        "outputId": "474672f0-f90c-481e-9737-78541bf8ae49"
      },
      "execution_count": null,
      "outputs": [
        {
          "output_type": "stream",
          "name": "stdout",
          "text": [
            "<class 'float'>\n",
            "<class 'int'>\n",
            "<class 'bool'>\n"
          ]
        }
      ]
    },
    {
      "cell_type": "code",
      "source": [
        "noneType = None\n",
        "print(type(noneType))"
      ],
      "metadata": {
        "colab": {
          "base_uri": "https://localhost:8080/"
        },
        "id": "XaHuqupxq64T",
        "outputId": "65677771-bc7d-4ad3-b7d6-c34489ea552b"
      },
      "execution_count": null,
      "outputs": [
        {
          "output_type": "stream",
          "name": "stdout",
          "text": [
            "<class 'NoneType'>\n"
          ]
        }
      ]
    }
  ]
}